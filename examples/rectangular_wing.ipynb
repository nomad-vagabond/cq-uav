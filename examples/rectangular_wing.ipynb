{
 "cells": [
  {
   "cell_type": "code",
   "execution_count": 1,
   "id": "70cfec15-ba4a-40f3-8df6-2f6d43815748",
   "metadata": {},
   "outputs": [
    {
     "name": "stdout",
     "output_type": "stream",
     "text": [
      "Overwriting auto display for cadquery Workplane and Shape\n"
     ]
    }
   ],
   "source": [
    "import os\n",
    "import sys\n",
    "import math\n",
    "import json\n",
    "\n",
    "import numpy as np\n",
    "import cadquery as cq\n",
    "from jupyter_cadquery import show\n",
    "import matplotlib.pyplot as plt\n",
    "%matplotlib inline\n",
    "\n",
    "from cquav.wing.airfoil import Airfoil, load_airfoils_collection\n",
    "from cquav.wing.profile import AirfoilSection, ThreeChamberBoxedWingSection\n",
    "from cquav.wing.rect_console import RectangularWingConsole\n",
    "from cquav.materials import IsotropicMaterial, FluidProperties"
   ]
  },
  {
   "cell_type": "markdown",
   "id": "a18c642b",
   "metadata": {},
   "source": [
    "## Load airfoils collection"
   ]
  },
  {
   "cell_type": "code",
   "execution_count": 2,
   "id": "eddde181",
   "metadata": {},
   "outputs": [],
   "source": [
    "airfoils_collection = load_airfoils_collection()\n",
    "airfoil_data = airfoils_collection[\"NACA 4 digit airfoils\"][\"NACA 2412 (naca2412-il)\"]\n",
    "airfoil = Airfoil(airfoil_data)"
   ]
  },
  {
   "cell_type": "markdown",
   "id": "9e84c0ce",
   "metadata": {},
   "source": [
    "## Define constants"
   ]
  },
  {
   "cell_type": "code",
   "execution_count": 3,
   "id": "a9b15132-cb5b-4318-a8ad-f986cef4e55f",
   "metadata": {},
   "outputs": [],
   "source": [
    "velocity_max = 35 #[m/s]\n",
    "air_density = 1.225 #[kg/m^3]\n",
    "kinematic_viscosity = 1.460*1e-5 ## [m^2/s]\n",
    "dyn_airpressure_max = 0.5 * air_density * velocity_max**2 ## dynamic pressure\n",
    "delta_max = 0.1 ## relative wing tip displacement\n",
    "payload_mass = 10 ## kg\n",
    "g = 9.81 ## [m/s**2]\n",
    "load_factor = 1.2\n",
    "cd_payload = 0.5\n",
    "payload_cross_section_area = math.pi*0.1**2 / 4"
   ]
  },
  {
   "cell_type": "markdown",
   "id": "3c28512e-4cb4-4405-94ff-4e6ef4ff4447",
   "metadata": {},
   "source": [
    "## Materials"
   ]
  },
  {
   "cell_type": "code",
   "execution_count": 4,
   "id": "ed1da07a-f1ee-41f0-9a6f-207ff40f9603",
   "metadata": {},
   "outputs": [],
   "source": [
    "XPS_foam = IsotropicMaterial(30, 1e3, 25*1e6)\n",
    "# https://www.mdpi.com/2073-4360/12/1/47\n",
    "\n",
    "PETG = IsotropicMaterial(1270, 45*1e6, 2.1*1e9)\n",
    "# https://www.researchgate.net/publication/362844605_A_Comparative_Study_for_Material_Selection_in_3D_Printing_of_Scoliosis_Back_Brace\n",
    "\n",
    "Fiberglass_laminate = IsotropicMaterial(1800, 290*1e6, 12.4*1e9)\n",
    "#https://laminatedplastics.com/fiberglasslaminates.pdf\n",
    "\n",
    "Carbon_laminate = IsotropicMaterial(1500, 450*1e6, 35*1e9)\n",
    "# https://www.researchgate.net/publication/259461841_Mechanical_Properties_of_Carbon_FiberEpoxy_Composites_Effects_of_Number_of_Plies_Fiber_Contents_and_Angle-Ply_Layers"
   ]
  },
  {
   "cell_type": "code",
   "execution_count": 5,
   "id": "c40230fc",
   "metadata": {},
   "outputs": [],
   "source": [
    "air_props = FluidProperties(air_density, velocity_max, kinematic_viscosity)"
   ]
  },
  {
   "cell_type": "markdown",
   "id": "200a5b94-62b7-4c2e-af80-5a4ae824d282",
   "metadata": {},
   "source": [
    "## Build reinforced wing console"
   ]
  },
  {
   "cell_type": "code",
   "execution_count": 6,
   "id": "9e6aba80-c5ce-4bde-acf0-764bc4adf959",
   "metadata": {},
   "outputs": [],
   "source": [
    "## Fixed parameters, mm\n",
    "console_chord = 260\n",
    "console_length = 900\n",
    "\n",
    "max_chord_length = 1000\n",
    "min_chord_length = 50\n",
    "\n",
    "max_console_length = 12000\n",
    "min_console_length = 50\n",
    "\n",
    "MATERIALS = {\"box\": Fiberglass_laminate, \"shell\": Fiberglass_laminate, \"foam\": XPS_foam}"
   ]
  },
  {
   "cell_type": "code",
   "execution_count": 7,
   "id": "481acb84-17b5-40ea-bfe4-b3cd73677604",
   "metadata": {},
   "outputs": [
    {
     "name": "stdout",
     "output_type": "stream",
     "text": [
      "number of profile data points: 35\n",
      "number of brep control points: 12\n",
      "new front wall position: 0.05\n"
     ]
    }
   ],
   "source": [
    "airfoil_section = AirfoilSection(airfoil, chord=console_chord)\n",
    "wing_console = RectangularWingConsole(airfoil_section, length=console_length, materials=MATERIALS,\n",
    "                                      min_length=min_console_length, max_length=max_console_length, \n",
    "                                      min_chord=min_chord_length, max_chord=max_chord_length,\n",
    "                                      make_lattice=False)"
   ]
  },
  {
   "cell_type": "code",
   "execution_count": 8,
   "id": "7b1f4e70-28d3-48cb-b592-e8238150cf90",
   "metadata": {},
   "outputs": [
    {
     "name": "stdout",
     "output_type": "stream",
     "text": [
      "100% ⋮————————————————————————————————————————————————————————————⋮ (5/5)  0.89s\n"
     ]
    },
    {
     "data": {
      "application/vnd.jupyter.widget-view+json": {
       "model_id": "29bc301e35cb412ca030963bd161b878",
       "version_major": 2,
       "version_minor": 0
      },
      "text/plain": [
       "CadViewerWidget(anchor=None, cad_width=800, glass=False, height=600, pinning=False, theme='light', title=None,…"
      ]
     },
     "metadata": {},
     "output_type": "display_data"
    },
    {
     "data": {
      "text/html": [
       "<div></div>"
      ],
      "text/plain": [
       "<IPython.core.display.HTML object>"
      ]
     },
     "metadata": {},
     "output_type": "display_data"
    },
    {
     "data": {
      "text/plain": [
       "<cad_viewer_widget.widget.CadViewer at 0x7f68e67cb1f0>"
      ]
     },
     "execution_count": 8,
     "metadata": {},
     "output_type": "execute_result"
    }
   ],
   "source": [
    "assy = cq.Assembly()\n",
    "assy.add(wing_console.foam, name=\"foam\", color=cq.Color(\"lightgray\"))\n",
    "assy.add(wing_console.front_box, name=\"left_box\", color=cq.Color(\"yellow\"))\n",
    "assy.add(wing_console.central_box, name=\"central_box\", color=cq.Color(\"yellow\"))\n",
    "assy.add(wing_console.rear_box, name=\"right_box\", color=cq.Color(\"yellow\"))\n",
    "assy.add(wing_console.shell, name=\"shell\", color=cq.Color(\"lightskyblue2\"))\n",
    "show(assy, angular_tolerance=0.1)"
   ]
  },
  {
   "cell_type": "markdown",
   "id": "537447d9-159c-49e9-a57f-fdbdfd27f407",
   "metadata": {},
   "source": [
    "## Find solution of the required wing length that satisfies the max wing tip displacement requirement"
   ]
  },
  {
   "cell_type": "code",
   "execution_count": 9,
   "id": "c0c3e34e",
   "metadata": {},
   "outputs": [
    {
     "name": "stdout",
     "output_type": "stream",
     "text": [
      "number of profile data points: 35\n",
      "number of brep control points: 12\n"
     ]
    },
    {
     "data": {
      "text/plain": [
       "359589.0410958904"
      ]
     },
     "execution_count": 9,
     "metadata": {},
     "output_type": "execute_result"
    }
   ],
   "source": [
    "airfoil_section = AirfoilSection(airfoil, chord=150)\n",
    "reynolds = airfoil_section.eval_reynolds(air_props)\n",
    "reynolds"
   ]
  },
  {
   "cell_type": "code",
   "execution_count": 10,
   "id": "9090d171-3394-439f-a687-34bb27d67a3d",
   "metadata": {},
   "outputs": [
    {
     "name": "stdout",
     "output_type": "stream",
     "text": [
      "new front wall position: 0.05\n"
     ]
    }
   ],
   "source": [
    "box_section = ThreeChamberBoxedWingSection(airfoil_section) #thickness_tol=0\n",
    "wing_console = RectangularWingConsole(box_section, materials=MATERIALS, \n",
    "                                      min_length=min_console_length, max_length=max_console_length, \n",
    "                                      min_chord=min_chord_length, max_chord=max_chord_length,\n",
    "                                      make_lattice=False)"
   ]
  },
  {
   "cell_type": "code",
   "execution_count": 11,
   "id": "f5d0003a",
   "metadata": {},
   "outputs": [
    {
     "data": {
      "text/plain": [
       "0.3604633440024395"
      ]
     },
     "execution_count": 11,
     "metadata": {},
     "output_type": "execute_result"
    }
   ],
   "source": [
    "alpha_min_drag = wing_console.airfoil_section.airfoil.alpha_min_drag(reynolds)\n",
    "alpha_min_drag"
   ]
  },
  {
   "cell_type": "code",
   "execution_count": 12,
   "id": "d82cc3b9",
   "metadata": {},
   "outputs": [
    {
     "name": "stdout",
     "output_type": "stream",
     "text": [
      "Finding wing console length for the chord = 150\n",
      "Console length: 4614.493834438756 [mm]\n",
      "Сonsole mass: 4.895838300423805 [kg]\n",
      "Console spect ratio: 30.763292229591706\n",
      "Lift force: 161.24994435891736 [N]\n",
      "Absolute tip deflection: 14686.385385230064 [mm]\n",
      "Relative tip deflection: 318.26644291131265 %\n",
      "Box thickness: 1.427, [mm]\n",
      "Tip deflection error: 3.082664429113126\n",
      "\n",
      "Console length: 7435.506165561243 [mm]\n",
      "Сonsole mass: 7.888847005707124 [kg]\n",
      "Console spect ratio: 49.570041103741616\n",
      "Lift force: 259.82805449407743 [N]\n",
      "Absolute tip deflection: 99005.83535573375 [mm]\n",
      "Relative tip deflection: 1331.527849634439 %\n",
      "Box thickness: 1.427, [mm]\n",
      "Tip deflection error: 13.215278496344391\n",
      "\n",
      "Console length: 2871.0123311224866 [mm]\n",
      "Сonsole mass: 3.0460571918911272 [kg]\n",
      "Console spect ratio: 19.140082207483243\n",
      "Lift force: 100.32532174865797 [N]\n",
      "Absolute tip deflection: 2200.690007055977 [mm]\n",
      "Relative tip deflection: 76.65205694869195 %\n",
      "Box thickness: 1.427, [mm]\n",
      "Tip deflection error: 0.6665205694869195\n",
      "\n",
      "Console length: 3520.462792020011 [mm]\n",
      "Сonsole mass: 3.735104475286503 [kg]\n",
      "Console spect ratio: 23.469751946800073\n",
      "Lift force: 123.01986950209238 [N]\n",
      "Absolute tip deflection: 4975.281688842779 [mm]\n",
      "Relative tip deflection: 141.32464913762107 %\n",
      "Box thickness: 1.427, [mm]\n",
      "Tip deflection error: 1.3132464913762105\n",
      "\n",
      "Console length: 2861.2625587457023 [mm]\n",
      "Сonsole mass: 3.0357129784923016 [kg]\n",
      "Console spect ratio: 19.07508372497135\n",
      "Lift force: 99.9846234381444 [N]\n",
      "Absolute tip deflection: 2170.948333422893 [mm]\n",
      "Relative tip deflection: 75.87378958939638 %\n",
      "Box thickness: 1.427, [mm]\n",
      "Tip deflection error: 0.6587378958939638\n",
      "\n",
      "Console length: 1787.455812604842 [mm]\n",
      "Сonsole mass: 1.8964365196074207 [kg]\n",
      "Console spect ratio: 11.91637208403228\n",
      "Lift force: 62.461271087950266 [N]\n",
      "Absolute tip deflection: 330.64343041772213 [mm]\n",
      "Relative tip deflection: 18.497991843271283 %\n",
      "Box thickness: 1.427, [mm]\n",
      "Tip deflection error: 0.08497991843271283\n",
      "\n",
      "Console length: 1998.3988209651586 [mm]\n",
      "Сonsole mass: 2.1202406672882868 [kg]\n",
      "Console spect ratio: 13.32265880643439\n",
      "Lift force: 69.83251256781688 [N]\n",
      "Absolute tip deflection: 516.5915515542529 [mm]\n",
      "Relative tip deflection: 25.850273035327188 %\n",
      "Box thickness: 1.427, [mm]\n",
      "Tip deflection error: 0.15850273035327186\n",
      "\n",
      "Console length: 1775.7727361971774 [mm]\n",
      "Сonsole mass: 1.884041129127112 [kg]\n",
      "Console spect ratio: 11.838484907981183\n",
      "Lift force: 62.053014952333164 [N]\n",
      "Absolute tip deflection: 322.08327660758584 [mm]\n",
      "Relative tip deflection: 18.13764059117881 %\n",
      "Box thickness: 1.427, [mm]\n",
      "Tip deflection error: 0.08137640591178807\n",
      "\n",
      "Console length: 1116.5862078277617 [mm]\n",
      "Сonsole mass: 1.1846641728275857 [kg]\n",
      "Console spect ratio: 7.443908052185078\n",
      "Lift force: 39.01824779576499 [N]\n",
      "Absolute tip deflection: 50.34863217953982 [mm]\n",
      "Relative tip deflection: 4.509157629439958 %\n",
      "Box thickness: 1.427, [mm]\n",
      "Tip deflection error: -0.05490842370560042\n",
      "\n",
      "Console length: 1406.1354861329487 [mm]\n",
      "Сonsole mass: 1.4918671938698504 [kg]\n",
      "Console spect ratio: 9.374236574219658\n",
      "Lift force: 49.13632503046018 [N]\n",
      "Absolute tip deflection: 126.62729050671945 [mm]\n",
      "Relative tip deflection: 9.005340648571538 %\n",
      "Box thickness: 1.427, [mm]\n",
      "Tip deflection error: -0.009946593514284618\n",
      "\n",
      "Console length: 1381.110959060741 [mm]\n",
      "Сonsole mass: 1.4653169280126925 [kg]\n",
      "Console spect ratio: 9.207406393738273\n",
      "Lift force: 48.26186214400309 [N]\n",
      "Absolute tip deflection: 117.85090603559514 [mm]\n",
      "Relative tip deflection: 8.53305125576171 %\n",
      "Box thickness: 1.427, [mm]\n",
      "Tip deflection error: -0.014669487442382903\n",
      "\n",
      "Console length: 1506.8883890882212 [mm]\n",
      "Сonsole mass: 1.5987629746346275 [kg]\n",
      "Console spect ratio: 10.045922593921475\n",
      "Lift force: 52.65705787320176 [N]\n",
      "Absolute tip deflection: 167.0101962594218 [mm]\n",
      "Relative tip deflection: 11.083116537945807 %\n",
      "Box thickness: 1.427, [mm]\n",
      "Tip deflection error: 0.010831165379458066\n",
      "\n",
      "Console length: 1444.6196705966431 [mm]\n",
      "Сonsole mass: 1.5326977488800517 [kg]\n",
      "Console spect ratio: 9.630797803977622\n",
      "Lift force: 50.48112531107943 [N]\n",
      "Absolute tip deflection: 141.06937317733568 [mm]\n",
      "Relative tip deflection: 9.765156604788064 %\n",
      "Box thickness: 1.427, [mm]\n",
      "Tip deflection error: -0.0023484339521193665\n",
      "\n",
      "Console length: 1454.3357805944806 [mm]\n",
      "Сonsole mass: 1.5430062475371937 [kg]\n",
      "Console spect ratio: 9.695571870629871\n",
      "Lift force: 50.82064731560432 [N]\n",
      "Absolute tip deflection: 144.90300649114087 [mm]\n",
      "Relative tip deflection: 9.96351794576007 %\n",
      "Box thickness: 1.427, [mm]\n",
      "Tip deflection error: -0.00036482054239930783\n",
      "\n",
      "Console length: 1457.6691354990996 [mm]\n",
      "Сonsole mass: 1.5465428362006948 [kg]\n",
      "Console spect ratio: 9.717794236660664\n",
      "Lift force: 50.93712884362953 [N]\n",
      "Absolute tip deflection: 146.23605846071504 [mm]\n",
      "Relative tip deflection: 10.032184595212989 %\n",
      "Box thickness: 1.427, [mm]\n",
      "Tip deflection error: 0.00032184595212989\n",
      "\n",
      "Console length: 1461.0024904531601 [mm]\n",
      "Сonsole mass: 1.550079424921043 [kg]\n",
      "Console spect ratio: 9.740016603021068\n",
      "Lift force: 51.05361037338243 [N]\n",
      "Absolute tip deflection: 147.57828703928274 [mm]\n",
      "Relative tip deflection: 10.10116601467998 %\n",
      "Box thickness: 1.427, [mm]\n",
      "Tip deflection error: 0.001011660146799806\n",
      "\n",
      "=============================================\n",
      "Wing console length selection result:\n",
      "  message: Solution found.\n",
      " success: True\n",
      "  status: 0\n",
      "     fun: 1.0358481690239544e-07\n",
      "       x: 1457.6691354990996\n",
      "     nit: 16\n",
      "    nfev: 16\n"
     ]
    }
   ],
   "source": [
    "solved_console_length = wing_console.fit_length_to_required_tip_deflection(\n",
    "    alpha_min_drag, air_props, load_factor=load_factor\n",
    ")"
   ]
  },
  {
   "cell_type": "code",
   "execution_count": 13,
   "id": "d1ec00de",
   "metadata": {},
   "outputs": [
    {
     "data": {
      "text/plain": [
       "1457.6691354990996"
      ]
     },
     "execution_count": 13,
     "metadata": {},
     "output_type": "execute_result"
    }
   ],
   "source": [
    "solved_console_length"
   ]
  },
  {
   "cell_type": "code",
   "execution_count": 14,
   "id": "3c3b23bd",
   "metadata": {},
   "outputs": [
    {
     "name": "stdout",
     "output_type": "stream",
     "text": [
      "============================\n",
      "Length: 1457.6691354990996, [mm]\n",
      "Chord: 150, [mm]\n",
      "Aspect ratio: 9.717794236660664\n",
      "Area: 0.21865037032486495, [m^2]\n",
      "----------\n",
      "Mass: 1.5465428362006948, [kg] (box: 0.9566951728256746, foam: 0.027119495312946544, shell: 0.5627281680620736)\n",
      "Angle of attack: 0.3604633440024395, [degrees]\n",
      "Excess lift force: 32.730145968005104, [N]\n",
      "Console bend force: 35.771024681954856, [N]\n",
      "Drag force: 1.320188563111719, [N]\n",
      "Lift to weight ratio: 2.7983907782072066\n",
      "Center of aerodynamic pressure (lift): (37.5, 728.8345677495498), [mm, mm]\n",
      "----------\n",
      "Reinforcement box thickness: 1.427, [mm]\n",
      "Shell thickness: 1, [mm]\n",
      "Bend stress: 26.02407584281799, [MPa]\n",
      "Shear stress: 0.4433032656824103, [MPa]\n",
      "Von Mises stress: 26.035400454551052, [MPa]\n",
      "Safety factor: 11.138680217584565\n",
      "===========================\n"
     ]
    }
   ],
   "source": [
    "wing_console.stats(alpha_min_drag, air_props, load_factor=load_factor)"
   ]
  },
  {
   "cell_type": "markdown",
   "id": "2772da5b-59df-4dca-aed9-43e539747f14",
   "metadata": {
    "tags": []
   },
   "source": [
    "## Find solution of the required wing console size that ensures sufficient lift force"
   ]
  },
  {
   "cell_type": "code",
   "execution_count": 15,
   "id": "37147e64",
   "metadata": {},
   "outputs": [],
   "source": [
    "required_console_lift_force = 0.5 * load_factor * payload_mass * g"
   ]
  },
  {
   "cell_type": "code",
   "execution_count": 16,
   "id": "7a52d047-2f08-4a56-ba93-a55c6bc68f75",
   "metadata": {},
   "outputs": [
    {
     "name": "stdout",
     "output_type": "stream",
     "text": [
      "number of profile data points: 35\n",
      "number of brep control points: 12\n",
      "new front wall position: 0.05\n",
      "Finding wing console length for the chord = 412.86771068759987\n",
      "Current chord: 412.86771068759987, [mm]\n",
      "Console length: 6474.983245262038, [mm]\n",
      "Console excess lift force: 94.84787859105234, [N]\n",
      "Required lift force: 58.86, [N]\n",
      "Console mass: 39.89886961035688, [kg]\n",
      "Box thickness: 3.927, [mm]\n",
      "Absolute error: 35.987878591052336, [N]\n",
      "\n",
      "number of profile data points: 35\n",
      "number of brep control points: 12\n",
      "new front wall position: 0.05\n",
      "Finding wing console length for the chord = 637.1322893124001\n",
      "Current chord: 637.1322893124001, [mm]\n",
      "Console length: 9342.096991599139, [mm]\n",
      "Console excess lift force: -258.7647467444326, [N]\n",
      "Required lift force: 58.86, [N]\n",
      "Console mass: 128.83915785659798, [kg]\n",
      "Box thickness: 6.06, [mm]\n",
      "Absolute error: -317.6247467444326, [N]\n",
      "\n",
      "number of profile data points: 35\n",
      "number of brep control points: 12\n",
      "new front wall position: 0.05\n",
      "Finding wing console length for the chord = 274.2645786248002\n",
      "Current chord: 274.2645786248002, [mm]\n",
      "Console length: 3282.618274940947, [mm]\n",
      "Console excess lift force: 71.90324284844424, [N]\n",
      "Required lift force: 58.86, [N]\n",
      "Console mass: 9.698882757966704, [kg]\n",
      "Box thickness: 2.609, [mm]\n",
      "Absolute error: 13.043242848444237, [N]\n",
      "\n",
      "number of profile data points: 35\n",
      "number of brep control points: 12\n",
      "new front wall position: 0.05\n",
      "Finding wing console length for the chord = 340.1881957816193\n",
      "Current chord: 340.1881957816193, [mm]\n",
      "Console length: 4508.014114972869, [mm]\n",
      "Console excess lift force: 90.14540934318268, [N]\n",
      "Required lift force: 58.86, [N]\n",
      "Console mass: 19.54598402125757, [kg]\n",
      "Box thickness: 3.236, [mm]\n",
      "Absolute error: 31.28540934318268, [N]\n",
      "\n",
      "number of profile data points: 35\n",
      "number of brep control points: 12\n",
      "new front wall position: 0.05\n",
      "Finding wing console length for the chord = 188.6031320627997\n",
      "Current chord: 188.6031320627997, [mm]\n",
      "Console length: 1983.7946430513782, [mm]\n",
      "Console excess lift force: 43.935054843451844, [N]\n",
      "Required lift force: 58.86, [N]\n",
      "Console mass: 3.076955033860899, [kg]\n",
      "Box thickness: 1.794, [mm]\n",
      "Absolute error: -14.924945156548155, [N]\n",
      "\n",
      "number of profile data points: 35\n",
      "number of brep control points: 12\n",
      "new front wall position: 0.05\n",
      "Finding wing console length for the chord = 235.04888432432924\n",
      "Current chord: 235.04888432432924, [mm]\n",
      "Console length: 2678.8725253366147, [mm]\n",
      "Console excess lift force: 58.16585907501231, [N]\n",
      "Required lift force: 58.86, [N]\n",
      "Console mass: 6.0461764176276995, [kg]\n",
      "Box thickness: 2.236, [mm]\n",
      "Absolute error: -0.6941409249876926, [N]\n",
      "\n",
      "number of profile data points: 35\n",
      "number of brep control points: 12\n",
      "new front wall position: 0.05\n",
      "Finding wing console length for the chord = 234.32182441610829\n",
      "Current chord: 234.32182441610829, [mm]\n",
      "Console length: 2668.5977571470594, [mm]\n",
      "Console excess lift force: 57.91029439243023, [N]\n",
      "Required lift force: 58.86, [N]\n",
      "Console mass: 5.990637507186522, [kg]\n",
      "Box thickness: 2.229, [mm]\n",
      "Absolute error: -0.9497056075697685, [N]\n",
      "\n",
      "number of profile data points: 35\n",
      "number of brep control points: 12\n",
      "new front wall position: 0.05\n",
      "Finding wing console length for the chord = 237.03862388873907\n",
      "Current chord: 237.03862388873907, [mm]\n",
      "Console length: 2710.465686465955, [mm]\n",
      "Console excess lift force: 58.94074098668548, [N]\n",
      "Required lift force: 58.86, [N]\n",
      "Console mass: 6.2075546546637925, [kg]\n",
      "Box thickness: 2.255, [mm]\n",
      "Absolute error: 0.08074098668548402, [N]\n",
      "\n",
      "number of profile data points: 35\n",
      "number of brep control points: 12\n",
      "new front wall position: 0.05\n",
      "Finding wing console length for the chord = 237.00114915678498\n",
      "Current chord: 237.00114915678498, [mm]\n",
      "Console length: 2709.551154943807, [mm]\n",
      "Console excess lift force: 58.933121976403584, [N]\n",
      "Required lift force: 58.86, [N]\n",
      "Console mass: 6.202579041539897, [kg]\n",
      "Box thickness: 2.254, [mm]\n",
      "Absolute error: 0.0731219764035842, [N]\n",
      "\n",
      "number of profile data points: 35\n",
      "number of brep control points: 12\n",
      "new front wall position: 0.05\n",
      "Finding wing console length for the chord = 236.90686119290297\n",
      "Current chord: 236.90686119290297, [mm]\n",
      "Console length: 2708.1463510080434, [mm]\n",
      "Console excess lift force: 58.90065324650256, [N]\n",
      "Required lift force: 58.86, [N]\n",
      "Console mass: 6.19490226435518, [kg]\n",
      "Box thickness: 2.253, [mm]\n",
      "Absolute error: 0.04065324650255775, [N]\n",
      "\n",
      "number of profile data points: 35\n",
      "number of brep control points: 12\n",
      "new front wall position: 0.05\n",
      "Finding wing console length for the chord = 236.1971771794189\n",
      "Current chord: 236.1971771794189, [mm]\n",
      "Console length: 2695.1614105603358, [mm]\n",
      "Console excess lift force: 58.57064172041629, [N]\n",
      "Required lift force: 58.86, [N]\n",
      "Console mass: 6.134613893547487, [kg]\n",
      "Box thickness: 2.247, [mm]\n",
      "Absolute error: -0.2893582795837091, [N]\n",
      "\n",
      "number of profile data points: 35\n",
      "number of brep control points: 12\n",
      "new front wall position: 0.05\n",
      "Finding wing console length for the chord = 236.6357860210245\n",
      "Current chord: 236.6357860210245, [mm]\n",
      "Console length: 2701.2939310370853, [mm]\n",
      "Console excess lift force: 58.72720917288977, [N]\n",
      "Required lift force: 58.86, [N]\n",
      "Console mass: 6.168043009163137, [kg]\n",
      "Box thickness: 2.251, [mm]\n",
      "Absolute error: -0.13279082711022738, [N]\n",
      "\n",
      "number of profile data points: 35\n",
      "number of brep control points: 12\n",
      "new front wall position: 0.05\n",
      "Finding wing console length for the chord = 236.8033196907516\n",
      "Current chord: 236.8033196907516, [mm]\n",
      "Console length: 2706.662482530528, [mm]\n",
      "Console excess lift force: 58.8641423806138, [N]\n",
      "Required lift force: 58.86, [N]\n",
      "Console mass: 6.186793551743337, [kg]\n",
      "Box thickness: 2.252, [mm]\n",
      "Absolute error: 0.004142380613799901, [N]\n",
      "\n",
      "number of profile data points: 35\n",
      "number of brep control points: 12\n",
      "new front wall position: 0.05\n",
      "Finding wing console length for the chord = 236.78827208756383\n",
      "Current chord: 236.78827208756383, [mm]\n",
      "Console length: 2706.5325778419538, [mm]\n",
      "Console excess lift force: 58.85756522695188, [N]\n",
      "Required lift force: 58.86, [N]\n",
      "Console mass: 6.186078035147022, [kg]\n",
      "Box thickness: 2.252, [mm]\n",
      "Absolute error: -0.0024347730481224517, [N]\n",
      "\n",
      "number of profile data points: 35\n",
      "number of brep control points: 12\n",
      "new front wall position: 0.05\n",
      "Finding wing console length for the chord = 236.79285518082997\n",
      "Current chord: 236.79285518082997, [mm]\n",
      "Console length: 2706.572143302104, [mm]\n",
      "Console excess lift force: 58.85956840904646, [N]\n",
      "Required lift force: 58.86, [N]\n",
      "Console mass: 6.186295957821475, [kg]\n",
      "Box thickness: 2.252, [mm]\n",
      "Absolute error: -0.0004315909535392848, [N]\n",
      "\n",
      "number of profile data points: 35\n",
      "number of brep control points: 12\n",
      "new front wall position: 0.05\n",
      "Finding wing console length for the chord = 236.7938424985267\n",
      "Current chord: 236.7938424985267, [mm]\n",
      "Console length: 2706.580666729388, [mm]\n",
      "Console excess lift force: 58.85999995129697, [N]\n",
      "Required lift force: 58.86, [N]\n",
      "Console mass: 6.186342904534625, [kg]\n",
      "Box thickness: 2.252, [mm]\n",
      "Absolute error: -4.8703029165153566e-08, [N]\n",
      "\n",
      "number of profile data points: 35\n",
      "number of brep control points: 12\n",
      "new front wall position: 0.05\n",
      "Finding wing console length for the chord = 236.7938493440803\n",
      "Current chord: 236.7938493440803, [mm]\n",
      "Console length: 2706.5807258248265, [mm]\n",
      "Console excess lift force: 58.86000294343273, [N]\n",
      "Required lift force: 58.86, [N]\n",
      "Console mass: 6.186343230029699, [kg]\n",
      "Box thickness: 2.252, [mm]\n",
      "Absolute error: 2.9434327331046006e-06, [N]\n",
      "\n",
      "number of profile data points: 35\n",
      "number of brep control points: 12\n",
      "new front wall position: 0.05\n",
      "Finding wing console length for the chord = 236.7938356529731\n",
      "Current chord: 236.7938356529731, [mm]\n",
      "Console length: 2706.580607633895, [mm]\n",
      "Console excess lift force: 58.85999695919507, [N]\n",
      "Required lift force: 58.86, [N]\n",
      "Console mass: 6.1863425790364595, [kg]\n",
      "Box thickness: 2.252, [mm]\n",
      "Absolute error: -3.0408049269681214e-06, [N]\n",
      "\n",
      "number of profile data points: 35\n",
      "number of brep control points: 12\n",
      "new front wall position: 0.05\n",
      "Finding wing console length for the chord = 236.7938424985267\n",
      "==============================================\n",
      "Wing console chord selection result:\n",
      " 236.7938424985267\n"
     ]
    }
   ],
   "source": [
    "solved_console_chord = wing_console.fit_chord_to_required_lift_force(\n",
    "    alpha_min_drag, air_props, required_console_lift_force, load_factor=load_factor, tip_delta_max=0.1\n",
    ")"
   ]
  },
  {
   "cell_type": "code",
   "execution_count": 17,
   "id": "726878d0-6f0f-4e0c-8887-1aaba8c6232c",
   "metadata": {},
   "outputs": [
    {
     "name": "stdout",
     "output_type": "stream",
     "text": [
      "============================\n",
      "Length: 2706.580666729388, [mm]\n",
      "Chord: 236.7938424985267, [mm]\n",
      "Aspect ratio: 11.430114221598597\n",
      "Area: 0.6409016361070761, [m^2]\n",
      "----------\n",
      "Mass: 6.186342904534625, [kg] (box: 4.425559927814888, foam: 0.12548791748834967, shell: 1.6352950592313866)\n",
      "Angle of attack: 0.3604633440024395, [degrees]\n",
      "Excess lift force: 58.85999995129697, [N]\n",
      "Console bend force: 71.01098866616412, [N]\n",
      "Drag force: 3.009545597088431, [N]\n",
      "Lift to weight ratio: 1.808508047113239\n",
      "Center of aerodynamic pressure (lift): (59.19846062463167, 1353.290333364694), [mm, mm]\n",
      "----------\n",
      "Reinforcement box thickness: 2.252, [mm]\n",
      "Shell thickness: 1, [mm]\n",
      "Bend stress: 24.38853101346105, [MPa]\n",
      "Shear stress: 0.35322905412599115, [MPa]\n",
      "Von Mises stress: 24.396203747480627, [MPa]\n",
      "Safety factor: 11.887095344903734\n",
      "===========================\n"
     ]
    }
   ],
   "source": [
    "wing_console.stats(alpha_min_drag, air_props, load_factor=load_factor)"
   ]
  },
  {
   "cell_type": "code",
   "execution_count": 18,
   "id": "54db36c5-d9df-4641-8ba8-c2a930400430",
   "metadata": {},
   "outputs": [
    {
     "name": "stdout",
     "output_type": "stream",
     "text": [
      "100% ⋮————————————————————————————————————————————————————————————⋮ (5/5)  4.41s\n"
     ]
    },
    {
     "data": {
      "application/vnd.jupyter.widget-view+json": {
       "model_id": "1108e353d0094b4ca9ecad1a71205659",
       "version_major": 2,
       "version_minor": 0
      },
      "text/plain": [
       "CadViewerWidget(anchor=None, cad_width=800, glass=False, height=600, pinning=False, theme='light', title=None,…"
      ]
     },
     "metadata": {},
     "output_type": "display_data"
    },
    {
     "data": {
      "text/html": [
       "<div></div>"
      ],
      "text/plain": [
       "<IPython.core.display.HTML object>"
      ]
     },
     "metadata": {},
     "output_type": "display_data"
    },
    {
     "data": {
      "text/plain": [
       "<cad_viewer_widget.widget.CadViewer at 0x7f68d87cae90>"
      ]
     },
     "execution_count": 18,
     "metadata": {},
     "output_type": "execute_result"
    }
   ],
   "source": [
    "assy = cq.Assembly()\n",
    "assy.add(wing_console.foam, name=\"foam\", color=cq.Color(\"lightgray\"))\n",
    "assy.add(wing_console.front_box, name=\"left_box\", color=cq.Color(\"yellow\"))\n",
    "assy.add(wing_console.central_box, name=\"central_box\", color=cq.Color(\"yellow\"))\n",
    "assy.add(wing_console.rear_box, name=\"right_box\", color=cq.Color(\"yellow\"))\n",
    "assy.add(wing_console.shell, name=\"shell\", color=cq.Color(\"lightskyblue2\"))\n",
    "show(assy, angular_tolerance=0.1)"
   ]
  },
  {
   "cell_type": "code",
   "execution_count": null,
   "id": "887e45ff",
   "metadata": {},
   "outputs": [],
   "source": []
  }
 ],
 "metadata": {
  "kernelspec": {
   "display_name": "Python 3 (ipykernel)",
   "language": "python",
   "name": "python3"
  },
  "language_info": {
   "codemirror_mode": {
    "name": "ipython",
    "version": 3
   },
   "file_extension": ".py",
   "mimetype": "text/x-python",
   "name": "python",
   "nbconvert_exporter": "python",
   "pygments_lexer": "ipython3",
   "version": "3.10.11"
  },
  "vscode": {
   "interpreter": {
    "hash": "e7370f93d1d0cde622a1f8e1c04877d8463912d04d973331ad4851f04de6915a"
   }
  }
 },
 "nbformat": 4,
 "nbformat_minor": 5
}
