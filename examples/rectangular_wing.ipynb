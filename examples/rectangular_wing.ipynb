{
 "cells": [
  {
   "cell_type": "code",
   "execution_count": 1,
   "id": "70cfec15-ba4a-40f3-8df6-2f6d43815748",
   "metadata": {},
   "outputs": [
    {
     "name": "stdout",
     "output_type": "stream",
     "text": [
      "Overwriting auto display for cadquery Workplane and Shape\n"
     ]
    }
   ],
   "source": [
    "import os\n",
    "import sys\n",
    "import math\n",
    "import json\n",
    "\n",
    "cquav_root_path = os.path.abspath('../')\n",
    "if cquav_root_path not in sys.path:\n",
    "    sys.path.append(cquav_root_path)\n",
    "\n",
    "import numpy as np\n",
    "import cadquery as cq\n",
    "from jupyter_cadquery import show\n",
    "import matplotlib.pyplot as plt\n",
    "%matplotlib inline\n",
    "\n",
    "from cquav.wing.airfoil import Airfoil, load_airfoils_collection\n",
    "from cquav.wing.profile import AirfoilSection, ThreeChamberBoxedWingSection\n",
    "from cquav.wing.rect_console import RectangularWingConsole\n",
    "from cquav.materials import IsotropicMaterial, FluidProperties"
   ]
  },
  {
   "cell_type": "markdown",
   "id": "a18c642b",
   "metadata": {},
   "source": [
    "## Load airfoils collection"
   ]
  },
  {
   "cell_type": "code",
   "execution_count": 2,
   "id": "eddde181",
   "metadata": {},
   "outputs": [],
   "source": [
    "airfoils_collection = load_airfoils_collection()\n",
    "airfoil_data = airfoils_collection[\"NACA 4 digit airfoils\"][\"NACA 2412 (naca2412-il)\"]\n",
    "airfoil = Airfoil(airfoil_data)"
   ]
  },
  {
   "cell_type": "markdown",
   "id": "9e84c0ce",
   "metadata": {},
   "source": [
    "## Define constants"
   ]
  },
  {
   "cell_type": "code",
   "execution_count": 3,
   "id": "a9b15132-cb5b-4318-a8ad-f986cef4e55f",
   "metadata": {},
   "outputs": [],
   "source": [
    "velocity_max = 35 #[m/s]\n",
    "air_density = 1.225 #[kg/m^3]\n",
    "kinematic_viscosity = 1.460*1e-5 ## [m^2/s]\n",
    "dyn_airpressure_max = 0.5 * air_density * velocity_max**2 ## dynamic pressure\n",
    "delta_max = 0.1 ## relative wing tip displacement\n",
    "payload_mass = 10 ## kg\n",
    "g = 9.81 ## [m/s**2]\n",
    "load_factor = 1.2\n",
    "cd_payload = 0.5\n",
    "payload_cross_section_area = math.pi*0.1**2 / 4"
   ]
  },
  {
   "cell_type": "markdown",
   "id": "3c28512e-4cb4-4405-94ff-4e6ef4ff4447",
   "metadata": {},
   "source": [
    "## Materials"
   ]
  },
  {
   "cell_type": "code",
   "execution_count": 4,
   "id": "ed1da07a-f1ee-41f0-9a6f-207ff40f9603",
   "metadata": {},
   "outputs": [],
   "source": [
    "XPS_foam = IsotropicMaterial(30, 1e3, 25*1e6)\n",
    "# https://www.mdpi.com/2073-4360/12/1/47\n",
    "\n",
    "Fiberglass_laminate = IsotropicMaterial(1800, 290*1e6, 12.4*1e9)\n",
    "#https://laminatedplastics.com/fiberglasslaminates.pdf\n",
    "\n",
    "Carbon_laminate = IsotropicMaterial(1500, 450*1e6, 35*1e9)\n",
    "# https://www.researchgate.net/publication/259461841_Mechanical_Properties_of_Carbon_FiberEpoxy_Composites_Effects_of_Number_of_Plies_Fiber_Contents_and_Angle-Ply_Layers"
   ]
  },
  {
   "cell_type": "code",
   "execution_count": 5,
   "id": "c40230fc",
   "metadata": {},
   "outputs": [],
   "source": [
    "air_props = FluidProperties(air_density, velocity_max, kinematic_viscosity)"
   ]
  },
  {
   "cell_type": "markdown",
   "id": "200a5b94-62b7-4c2e-af80-5a4ae824d282",
   "metadata": {},
   "source": [
    "## Build reinforced wing console"
   ]
  },
  {
   "cell_type": "code",
   "execution_count": 6,
   "id": "9e6aba80-c5ce-4bde-acf0-764bc4adf959",
   "metadata": {},
   "outputs": [],
   "source": [
    "## Fixed parameters, mm\n",
    "console_chord = 260\n",
    "console_length = 900\n",
    "\n",
    "max_chord_length = 1000\n",
    "min_chord_length = 50\n",
    "\n",
    "max_console_length = 12000\n",
    "min_console_length = 50\n",
    "\n",
    "MATERIALS = {\"box\": Fiberglass_laminate, \"shell\": Fiberglass_laminate, \"foam\": XPS_foam}"
   ]
  },
  {
   "cell_type": "code",
   "execution_count": 7,
   "id": "481acb84-17b5-40ea-bfe4-b3cd73677604",
   "metadata": {},
   "outputs": [
    {
     "name": "stdout",
     "output_type": "stream",
     "text": [
      "number of profile data points: 35\n",
      "number of brep control points: 12\n",
      "new front wall position: 0.05\n"
     ]
    }
   ],
   "source": [
    "airfoil_section = AirfoilSection(airfoil, chord=console_chord)\n",
    "wing_console = RectangularWingConsole(airfoil_section, length=console_length, materials=MATERIALS,\n",
    "                                      min_length=min_console_length, max_length=max_console_length, \n",
    "                                      min_chord=min_chord_length, max_chord=max_chord_length)"
   ]
  },
  {
   "cell_type": "code",
   "execution_count": 8,
   "id": "7b1f4e70-28d3-48cb-b592-e8238150cf90",
   "metadata": {},
   "outputs": [
    {
     "name": "stdout",
     "output_type": "stream",
     "text": [
      "100% ⋮————————————————————————————————————————————————————————————⋮ (5/5)  0.68s\n"
     ]
    },
    {
     "data": {
      "application/vnd.jupyter.widget-view+json": {
       "model_id": "b580e8df240c45448817dda0e4fd6a6a",
       "version_major": 2,
       "version_minor": 0
      },
      "text/plain": [
       "CadViewerWidget(anchor=None, cad_width=800, glass=False, height=600, pinning=False, theme='light', title=None,…"
      ]
     },
     "metadata": {},
     "output_type": "display_data"
    },
    {
     "data": {
      "text/html": [
       "<div></div>"
      ],
      "text/plain": [
       "<IPython.core.display.HTML object>"
      ]
     },
     "metadata": {},
     "output_type": "display_data"
    },
    {
     "data": {
      "text/plain": [
       "<cad_viewer_widget.widget.CadViewer at 0x7f5b79f5c1c0>"
      ]
     },
     "execution_count": 8,
     "metadata": {},
     "output_type": "execute_result"
    }
   ],
   "source": [
    "assy = cq.Assembly()\n",
    "assy.add(wing_console.foam, name=\"foam\", color=cq.Color(\"lightgray\"))\n",
    "assy.add(wing_console.front_box, name=\"left_box\", color=cq.Color(\"yellow\"))\n",
    "assy.add(wing_console.central_box, name=\"central_box\", color=cq.Color(\"yellow\"))\n",
    "assy.add(wing_console.rear_box, name=\"right_box\", color=cq.Color(\"yellow\"))\n",
    "assy.add(wing_console.shell, name=\"shell\", color=cq.Color(\"lightskyblue2\"))\n",
    "show(assy, angular_tolerance=0.1)"
   ]
  },
  {
   "cell_type": "markdown",
   "id": "537447d9-159c-49e9-a57f-fdbdfd27f407",
   "metadata": {},
   "source": [
    "## Find solution of the required wing length that satisfies the max wing tip displacement requirement"
   ]
  },
  {
   "cell_type": "code",
   "execution_count": 9,
   "id": "c0c3e34e",
   "metadata": {},
   "outputs": [
    {
     "name": "stdout",
     "output_type": "stream",
     "text": [
      "number of profile data points: 35\n",
      "number of brep control points: 12\n"
     ]
    },
    {
     "data": {
      "text/plain": [
       "359589.0410958904"
      ]
     },
     "execution_count": 9,
     "metadata": {},
     "output_type": "execute_result"
    }
   ],
   "source": [
    "airfoil_section = AirfoilSection(airfoil, chord=150)\n",
    "reynolds = airfoil_section.eval_reynolds(air_props)\n",
    "reynolds"
   ]
  },
  {
   "cell_type": "code",
   "execution_count": 10,
   "id": "9090d171-3394-439f-a687-34bb27d67a3d",
   "metadata": {},
   "outputs": [
    {
     "name": "stdout",
     "output_type": "stream",
     "text": [
      "new front wall position: 0.05\n"
     ]
    }
   ],
   "source": [
    "box_section = ThreeChamberBoxedWingSection(airfoil_section) #thickness_tol=0\n",
    "wing_console = RectangularWingConsole(box_section, materials=MATERIALS, \n",
    "                                      min_length=min_console_length, max_length=max_console_length, \n",
    "                                      min_chord=min_chord_length, max_chord=max_chord_length)"
   ]
  },
  {
   "cell_type": "code",
   "execution_count": 11,
   "id": "f5d0003a",
   "metadata": {},
   "outputs": [
    {
     "data": {
      "text/plain": [
       "0.3604633440024395"
      ]
     },
     "execution_count": 11,
     "metadata": {},
     "output_type": "execute_result"
    }
   ],
   "source": [
    "alpha_min_drag = wing_console.airfoil_section.airfoil.alpha_min_drag(reynolds)\n",
    "alpha_min_drag"
   ]
  },
  {
   "cell_type": "code",
   "execution_count": 12,
   "id": "d82cc3b9",
   "metadata": {},
   "outputs": [
    {
     "name": "stdout",
     "output_type": "stream",
     "text": [
      "Finding wing console length for the chord = 150\n",
      "Console length: 4614.493834438756 [mm]\n",
      "Сonsole mass: 4.895838300423805 [kg]\n",
      "Console spect ratio: 30.763292229591706\n",
      "Lift force: 161.24994435891736 [N]\n",
      "Absolute tip deflection: 14686.385385230078 [mm]\n",
      "Relative tip deflection: 318.26644291131294 %\n",
      "Box thickness: 1.427, [mm]\n",
      "Tip deflection error: 3.0826644291131293\n",
      "\n",
      "Console length: 7435.506165561243 [mm]\n",
      "Сonsole mass: 7.888847005707124 [kg]\n",
      "Console spect ratio: 49.570041103741616\n",
      "Lift force: 259.82805449407743 [N]\n",
      "Absolute tip deflection: 99005.83535573386 [mm]\n",
      "Relative tip deflection: 1331.5278496344404 %\n",
      "Box thickness: 1.427, [mm]\n",
      "Tip deflection error: 13.215278496344405\n",
      "\n",
      "Console length: 2871.0123311224866 [mm]\n",
      "Сonsole mass: 3.0460571918911272 [kg]\n",
      "Console spect ratio: 19.140082207483243\n",
      "Lift force: 100.32532174865797 [N]\n",
      "Absolute tip deflection: 2200.690007055979 [mm]\n",
      "Relative tip deflection: 76.65205694869204 %\n",
      "Box thickness: 1.427, [mm]\n",
      "Tip deflection error: 0.6665205694869204\n",
      "\n",
      "Console length: 3520.462792020011 [mm]\n",
      "Сonsole mass: 3.735104475286503 [kg]\n",
      "Console spect ratio: 23.469751946800073\n",
      "Lift force: 123.01986950209238 [N]\n",
      "Absolute tip deflection: 4975.281688842784 [mm]\n",
      "Relative tip deflection: 141.3246491376212 %\n",
      "Box thickness: 1.427, [mm]\n",
      "Tip deflection error: 1.313246491376212\n",
      "\n",
      "Console length: 2861.262558745702 [mm]\n",
      "Сonsole mass: 3.0357129784760475 [kg]\n",
      "Console spect ratio: 19.075083724971346\n",
      "Lift force: 99.98462343814438 [N]\n",
      "Absolute tip deflection: 2170.948333429356 [mm]\n",
      "Relative tip deflection: 75.87378958962226 %\n",
      "Box thickness: 1.427, [mm]\n",
      "Tip deflection error: 0.6587378958962227\n",
      "\n",
      "Console length: 1787.4558126048419 [mm]\n",
      "Сonsole mass: 1.896436519616711 [kg]\n",
      "Console spect ratio: 11.916372084032279\n",
      "Lift force: 62.46127108795026 [N]\n",
      "Absolute tip deflection: 330.64343041682184 [mm]\n",
      "Relative tip deflection: 18.497991843220916 %\n",
      "Box thickness: 1.427, [mm]\n",
      "Tip deflection error: 0.08497991843220917\n",
      "\n",
      "Console length: 1998.3988208108103 [mm]\n",
      "Сonsole mass: 2.1202406671275535 [kg]\n",
      "Console spect ratio: 13.322658805405402\n",
      "Lift force: 69.83251256242329 [N]\n",
      "Absolute tip deflection: 516.5915513942457 [mm]\n",
      "Relative tip deflection: 25.850273029316988 %\n",
      "Box thickness: 1.427, [mm]\n",
      "Tip deflection error: 0.15850273029316989\n",
      "\n",
      "Console length: 1775.77273614895 [mm]\n",
      "Сonsole mass: 1.8840411290844905 [kg]\n",
      "Console spect ratio: 11.838484907659666\n",
      "Lift force: 62.053014950647885 [N]\n",
      "Absolute tip deflection: 322.0832765717845 [mm]\n",
      "Relative tip deflection: 18.1376405896553 %\n",
      "Box thickness: 1.427, [mm]\n",
      "Tip deflection error: 0.08137640589655301\n",
      "\n",
      "Console length: 1116.5862077979555 [mm]\n",
      "Сonsole mass: 1.1846641727964884 [kg]\n",
      "Console spect ratio: 7.443908051986369\n",
      "Lift force: 39.01824779472343 [N]\n",
      "Absolute tip deflection: 50.348632174151405 [mm]\n",
      "Relative tip deflection: 4.5091576290777455 %\n",
      "Box thickness: 1.427, [mm]\n",
      "Tip deflection error: -0.05490842370922255\n",
      "\n",
      "Console length: 1406.1354861206257 [mm]\n",
      "Сonsole mass: 1.4918671938823516 [kg]\n",
      "Console spect ratio: 9.374236574137505\n",
      "Lift force: 49.13632503002956 [N]\n",
      "Absolute tip deflection: 126.62729050107386 [mm]\n",
      "Relative tip deflection: 9.005340648248962 %\n",
      "Box thickness: 1.427, [mm]\n",
      "Tip deflection error: -0.009946593517510385\n",
      "\n",
      "Console length: 1381.1109590627734 [mm]\n",
      "Сonsole mass: 1.4653169280347165 [kg]\n",
      "Console spect ratio: 9.207406393751823\n",
      "Lift force: 48.26186214407412 [N]\n",
      "Absolute tip deflection: 117.85090603540074 [mm]\n",
      "Relative tip deflection: 8.533051255735076 %\n",
      "Box thickness: 1.427, [mm]\n",
      "Tip deflection error: -0.014669487442649246\n",
      "\n",
      "Console length: 1506.8883891040437 [mm]\n",
      "Сonsole mass: 1.5987629746524568 [kg]\n",
      "Console spect ratio: 10.045922594026958\n",
      "Lift force: 52.65705787375467 [N]\n",
      "Absolute tip deflection: 167.01019626637594 [mm]\n",
      "Relative tip deflection: 11.083116538290923 %\n",
      "Box thickness: 1.427, [mm]\n",
      "Tip deflection error: 0.010831165382909222\n",
      "\n",
      "Console length: 1444.6196705950706 [mm]\n",
      "Сonsole mass: 1.5326977488855198 [kg]\n",
      "Console spect ratio: 9.630797803967138\n",
      "Lift force: 50.48112531102447 [N]\n",
      "Absolute tip deflection: 141.0693731763564 [mm]\n",
      "Relative tip deflection: 9.765156604730906 %\n",
      "Box thickness: 1.427, [mm]\n",
      "Tip deflection error: -0.002348433952690937\n",
      "\n",
      "Console length: 1454.3357805957885 [mm]\n",
      "Сonsole mass: 1.543006247537782 [kg]\n",
      "Console spect ratio: 9.69557187063859\n",
      "Lift force: 50.82064731565002 [N]\n",
      "Absolute tip deflection: 144.903006491704 [mm]\n",
      "Relative tip deflection: 9.96351794578983 %\n",
      "Box thickness: 1.427, [mm]\n",
      "Tip deflection error: -0.00036482054210171255\n",
      "\n",
      "Console length: 1457.6691355004075 [mm]\n",
      "Сonsole mass: 1.5465428361878988 [kg]\n",
      "Console spect ratio: 9.717794236669384\n",
      "Lift force: 50.93712884367524 [N]\n",
      "Absolute tip deflection: 146.23605846198558 [mm]\n",
      "Relative tip deflection: 10.03218459529115 %\n",
      "Box thickness: 1.427, [mm]\n",
      "Tip deflection error: 0.00032184595291150087\n",
      "\n",
      "Console length: 1461.002490454468 [mm]\n",
      "Сonsole mass: 1.5500794249293464 [kg]\n",
      "Console spect ratio: 9.740016603029787\n",
      "Lift force: 51.05361037342814 [N]\n",
      "Absolute tip deflection: 147.5782870394453 [mm]\n",
      "Relative tip deflection: 10.101166014682066 %\n",
      "Box thickness: 1.427, [mm]\n",
      "Tip deflection error: 0.0010116601468206504\n",
      "\n",
      "=============================================\n",
      "Wing console length selection result:\n",
      "  message: Solution found.\n",
      " success: True\n",
      "  status: 0\n",
      "     fun: 1.0358481740551203e-07\n",
      "       x: 1457.6691355004075\n",
      "     nit: 16\n",
      "    nfev: 16\n"
     ]
    }
   ],
   "source": [
    "solved_console_length = wing_console.fit_length_to_required_tip_deflection(\n",
    "    alpha_min_drag, air_props, load_factor=load_factor\n",
    ")"
   ]
  },
  {
   "cell_type": "code",
   "execution_count": 13,
   "id": "d1ec00de",
   "metadata": {},
   "outputs": [
    {
     "data": {
      "text/plain": [
       "1457.6691355004075"
      ]
     },
     "execution_count": 13,
     "metadata": {},
     "output_type": "execute_result"
    }
   ],
   "source": [
    "solved_console_length"
   ]
  },
  {
   "cell_type": "code",
   "execution_count": 14,
   "id": "bf2955b7",
   "metadata": {},
   "outputs": [
    {
     "name": "stdout",
     "output_type": "stream",
     "text": [
      "============================\n",
      "Length: 1457.6691355004075, [mm]\n",
      "Chord: 150, [mm]\n",
      "Aspect ratio: 9.717794236669384\n",
      "Area: 0.2186503703250611, [m^2]\n",
      "----------\n",
      "Mass: 1.5465428361878988, [kg] (box: 0.9566951728265329, foam: 0.027119495312970882, shell: 0.562728168048395)\n",
      "Angle of attack: 0.3604633440024395, [degrees]\n",
      "Excess lift force: 32.73014596820137, [N]\n",
      "Drag force: 1.3201885631129033, [N]\n",
      "Lift to weight ratio: 2.7983907782328705\n",
      "Center of aerodynamic pressure (lift): (37.5, 728.8345677502037), [mm, mm]\n",
      "----------\n",
      "Reinforcement box thickness: 1.427, [mm]\n",
      "Shell thickness: 1, [mm]\n",
      "Bend stress: 23.811780864455574, [MPa]\n",
      "Shear stress: 0.6084273817833253, [MPa]\n",
      "Von Mises stress: 23.835088830830145, [MPa]\n",
      "Safety factor: 12.166935984937115\n",
      "===========================\n"
     ]
    }
   ],
   "source": [
    "wing_console.stats(alpha_min_drag, air_props, load_factor=load_factor)"
   ]
  },
  {
   "cell_type": "markdown",
   "id": "2772da5b-59df-4dca-aed9-43e539747f14",
   "metadata": {
    "tags": []
   },
   "source": [
    "## Find solution of the required wing console size that ensures sufficient lift force"
   ]
  },
  {
   "cell_type": "code",
   "execution_count": 15,
   "id": "37147e64",
   "metadata": {},
   "outputs": [],
   "source": [
    "required_console_lift_force = 0.5 * load_factor * payload_mass * g"
   ]
  },
  {
   "cell_type": "code",
   "execution_count": 16,
   "id": "7a52d047-2f08-4a56-ba93-a55c6bc68f75",
   "metadata": {},
   "outputs": [
    {
     "name": "stdout",
     "output_type": "stream",
     "text": [
      "number of profile data points: 35\n",
      "number of brep control points: 12\n",
      "new front wall position: 0.05\n",
      "Finding wing console length for the chord = 412.86771068759987\n",
      "Current chord: 412.86771068759987, [mm]\n",
      "Console length: 6474.983245261212, [mm]\n",
      "Console excess lift force: 94.84787859102369, [N]\n",
      "Required lift force: 58.86, [N]\n",
      "Console mass: 39.8988696103532, [kg]\n",
      "Box thickness: 3.927, [mm]\n",
      "Absolute error: 35.98787859102369, [N]\n",
      "\n",
      "number of profile data points: 35\n",
      "number of brep control points: 12\n",
      "new front wall position: 0.05\n",
      "Finding wing console length for the chord = 637.1322893124001\n",
      "Current chord: 637.1322893124001, [mm]\n",
      "Console length: 9342.09699158343, [mm]\n",
      "Console excess lift force: -258.76474674413225, [N]\n",
      "Required lift force: 58.86, [N]\n",
      "Console mass: 128.83915785639277, [kg]\n",
      "Box thickness: 6.06, [mm]\n",
      "Absolute error: -317.62474674413227, [N]\n",
      "\n",
      "number of profile data points: 35\n",
      "number of brep control points: 12\n",
      "new front wall position: 0.05\n",
      "Finding wing console length for the chord = 274.2645786248002\n",
      "Current chord: 274.2645786248002, [mm]\n",
      "Console length: 3282.618274942859, [mm]\n",
      "Console excess lift force: 71.90324284847384, [N]\n",
      "Required lift force: 58.86, [N]\n",
      "Console mass: 9.698882757973395, [kg]\n",
      "Box thickness: 2.609, [mm]\n",
      "Absolute error: 13.043242848473838, [N]\n",
      "\n",
      "number of profile data points: 35\n",
      "number of brep control points: 12\n",
      "new front wall position: 0.05\n",
      "Finding wing console length for the chord = 340.1881957816214\n",
      "Current chord: 340.1881957816214, [mm]\n",
      "Console length: 4508.014114975121, [mm]\n",
      "Console excess lift force: 90.14540934331396, [N]\n",
      "Required lift force: 58.86, [N]\n",
      "Console mass: 19.545984021260185, [kg]\n",
      "Box thickness: 3.236, [mm]\n",
      "Absolute error: 31.285409343313958, [N]\n",
      "\n",
      "number of profile data points: 35\n",
      "number of brep control points: 12\n",
      "new front wall position: 0.05\n",
      "Finding wing console length for the chord = 188.6031320627997\n",
      "Current chord: 188.6031320627997, [mm]\n",
      "Console length: 1983.794643053382, [mm]\n",
      "Console excess lift force: 43.93505484367626, [N]\n",
      "Required lift force: 58.86, [N]\n",
      "Console mass: 3.0769550338487095, [kg]\n",
      "Box thickness: 1.794, [mm]\n",
      "Absolute error: -14.924945156323737, [N]\n",
      "\n",
      "number of profile data points: 35\n",
      "number of brep control points: 12\n",
      "new front wall position: 0.05\n",
      "Finding wing console length for the chord = 235.048884323809\n",
      "Current chord: 235.048884323809, [mm]\n",
      "Console length: 2678.8725253315843, [mm]\n",
      "Console excess lift force: 58.165859074816865, [N]\n",
      "Required lift force: 58.86, [N]\n",
      "Console mass: 6.046176417598456, [kg]\n",
      "Box thickness: 2.236, [mm]\n",
      "Absolute error: -0.6941409251831345, [N]\n",
      "\n",
      "number of profile data points: 35\n",
      "number of brep control points: 12\n",
      "new front wall position: 0.05\n",
      "Finding wing console length for the chord = 234.321824415743\n",
      "Current chord: 234.321824415743, [mm]\n",
      "Console length: 2668.59775714356, [mm]\n",
      "Console excess lift force: 57.91029439240674, [N]\n",
      "Required lift force: 58.86, [N]\n",
      "Console mass: 5.990637507156575, [kg]\n",
      "Box thickness: 2.229, [mm]\n",
      "Absolute error: -0.9497056075932591, [N]\n",
      "\n",
      "number of profile data points: 35\n",
      "number of brep control points: 12\n",
      "new front wall position: 0.05\n",
      "Finding wing console length for the chord = 237.03862388766137\n",
      "Current chord: 237.03862388766137, [mm]\n",
      "Console length: 2710.465686460056, [mm]\n",
      "Console excess lift force: 58.940740986230395, [N]\n",
      "Required lift force: 58.86, [N]\n",
      "Console mass: 6.207554654625161, [kg]\n",
      "Box thickness: 2.255, [mm]\n",
      "Absolute error: 0.0807409862303956, [N]\n",
      "\n",
      "number of profile data points: 35\n",
      "number of brep control points: 12\n",
      "new front wall position: 0.05\n",
      "Finding wing console length for the chord = 237.00114915790925\n",
      "Current chord: 237.00114915790925, [mm]\n",
      "Console length: 2709.5511549534945, [mm]\n",
      "Console excess lift force: 58.9331219769807, [N]\n",
      "Required lift force: 58.86, [N]\n",
      "Console mass: 6.202579041586098, [kg]\n",
      "Box thickness: 2.254, [mm]\n",
      "Absolute error: 0.07312197698070122, [N]\n",
      "\n",
      "number of profile data points: 35\n",
      "number of brep control points: 12\n",
      "new front wall position: 0.05\n",
      "Finding wing console length for the chord = 236.90686120051942\n",
      "Current chord: 236.90686120051942, [mm]\n",
      "Console length: 2708.1463510730923, [mm]\n",
      "Console excess lift force: 58.90065324966051, [N]\n",
      "Required lift force: 58.86, [N]\n",
      "Console mass: 6.194902264729335, [kg]\n",
      "Box thickness: 2.253, [mm]\n",
      "Absolute error: 0.040653249660508095, [N]\n",
      "\n",
      "number of profile data points: 35\n",
      "number of brep control points: 12\n",
      "new front wall position: 0.05\n",
      "Finding wing console length for the chord = 236.1971771839274\n",
      "Current chord: 236.1971771839274, [mm]\n",
      "Console length: 2695.16141059969, [mm]\n",
      "Console excess lift force: 58.57064172246251, [N]\n",
      "Required lift force: 58.86, [N]\n",
      "Console mass: 6.13461389375583, [kg]\n",
      "Box thickness: 2.247, [mm]\n",
      "Absolute error: -0.2893582775374881, [N]\n",
      "\n",
      "number of profile data points: 35\n",
      "number of brep control points: 12\n",
      "new front wall position: 0.05\n",
      "Finding wing console length for the chord = 236.6357860274538\n",
      "Current chord: 236.6357860274538, [mm]\n",
      "Console length: 2701.29393108991, [mm]\n",
      "Console excess lift force: 58.727209175667994, [N]\n",
      "Required lift force: 58.86, [N]\n",
      "Console mass: 6.1680430094597085, [kg]\n",
      "Box thickness: 2.251, [mm]\n",
      "Absolute error: -0.1327908243320053, [N]\n",
      "\n",
      "number of profile data points: 35\n",
      "number of brep control points: 12\n",
      "new front wall position: 0.05\n",
      "Finding wing console length for the chord = 236.80331969791462\n",
      "Current chord: 236.80331969791462, [mm]\n",
      "Console length: 2706.6624825947915, [mm]\n",
      "Console excess lift force: 58.864142383843244, [N]\n",
      "Required lift force: 58.86, [N]\n",
      "Console mass: 6.186793552085607, [kg]\n",
      "Box thickness: 2.252, [mm]\n",
      "Absolute error: 0.004142383843245057, [N]\n",
      "\n",
      "number of profile data points: 35\n",
      "number of brep control points: 12\n",
      "new front wall position: 0.05\n",
      "Finding wing console length for the chord = 236.78827208422408\n",
      "Current chord: 236.78827208422408, [mm]\n",
      "Console length: 2706.532577814121, [mm]\n",
      "Console excess lift force: 58.85756522548536, [N]\n",
      "Required lift force: 58.86, [N]\n",
      "Console mass: 6.186078034992932, [kg]\n",
      "Box thickness: 2.252, [mm]\n",
      "Absolute error: -0.0024347745146400257, [N]\n",
      "\n",
      "number of profile data points: 35\n",
      "number of brep control points: 12\n",
      "new front wall position: 0.05\n",
      "Finding wing console length for the chord = 236.79285517965448\n",
      "Current chord: 236.79285517965448, [mm]\n",
      "Console length: 2706.572143290389, [mm]\n",
      "Console excess lift force: 58.85956840840905, [N]\n",
      "Required lift force: 58.86, [N]\n",
      "Console mass: 6.186295957769607, [kg]\n",
      "Box thickness: 2.252, [mm]\n",
      "Absolute error: -0.0004315915909529622, [N]\n",
      "\n",
      "number of profile data points: 35\n",
      "number of brep control points: 12\n",
      "new front wall position: 0.05\n",
      "Finding wing console length for the chord = 236.7938424984255\n",
      "Current chord: 236.7938424984255, [mm]\n",
      "Console length: 2706.5806667280563, [mm]\n",
      "Console excess lift force: 58.859999951235, [N]\n",
      "Required lift force: 58.86, [N]\n",
      "Console mass: 6.186342904529429, [kg]\n",
      "Box thickness: 2.252, [mm]\n",
      "Absolute error: -4.876500270256656e-08, [N]\n",
      "\n",
      "number of profile data points: 35\n",
      "number of brep control points: 12\n",
      "new front wall position: 0.05\n",
      "Finding wing console length for the chord = 236.7938493439791\n",
      "Current chord: 236.7938493439791, [mm]\n",
      "Console length: 2706.5807258232053, [mm]\n",
      "Console excess lift force: 58.860002943287554, [N]\n",
      "Required lift force: 58.86, [N]\n",
      "Console mass: 6.186343230030378, [kg]\n",
      "Box thickness: 2.252, [mm]\n",
      "Absolute error: 2.94328755501283e-06, [N]\n",
      "\n",
      "number of profile data points: 35\n",
      "number of brep control points: 12\n",
      "new front wall position: 0.05\n",
      "Finding wing console length for the chord = 236.7938356528719\n",
      "Current chord: 236.7938356528719, [mm]\n",
      "Console length: 2706.5806076299205, [mm]\n",
      "Console excess lift force: 58.859996959193055, [N]\n",
      "Required lift force: 58.86, [N]\n",
      "Console mass: 6.186342579015242, [kg]\n",
      "Box thickness: 2.252, [mm]\n",
      "Absolute error: -3.040806944909491e-06, [N]\n",
      "\n",
      "number of profile data points: 35\n",
      "number of brep control points: 12\n",
      "new front wall position: 0.05\n",
      "Finding wing console length for the chord = 236.7938424984255\n",
      "==============================================\n",
      "Wing console chord selection result:\n",
      " 236.7938424984255\n"
     ]
    }
   ],
   "source": [
    "solved_console_chord = wing_console.fit_chord_to_required_lift_force(\n",
    "    alpha_min_drag, air_props, required_console_lift_force, load_factor=load_factor  #, method=\"direct\" #, method=\"brentq\"   # method=\"shgo\"\n",
    ")"
   ]
  },
  {
   "cell_type": "code",
   "execution_count": 17,
   "id": "726878d0-6f0f-4e0c-8887-1aaba8c6232c",
   "metadata": {},
   "outputs": [
    {
     "name": "stdout",
     "output_type": "stream",
     "text": [
      "============================\n",
      "Length: 2706.5806667280563, [mm]\n",
      "Chord: 236.7938424984255, [mm]\n",
      "Aspect ratio: 11.430114221597856\n",
      "Area: 0.6409016361064869, [m^2]\n",
      "----------\n",
      "Mass: 6.186342904529429, [kg] (box: 4.425559927810692, foam: 0.12548791748818058, shell: 1.6352950592305566)\n",
      "Angle of attack: 0.3604633440024395, [degrees]\n",
      "Excess lift force: 58.859999951235, [N]\n",
      "Drag force: 3.0095455970858587, [N]\n",
      "Lift to weight ratio: 1.808508047113067\n",
      "Center of aerodynamic pressure (lift): (59.198460624606376, 1353.2903333640281), [mm, mm]\n",
      "----------\n",
      "Reinforcement box thickness: 2.252, [mm]\n",
      "Shell thickness: 1, [mm]\n",
      "Bend stress: 20.21530697188744, [MPa]\n",
      "Shear stress: 0.43917981919072735, [MPa]\n",
      "Von Mises stress: 20.22961375578867, [MPa]\n",
      "Safety factor: 14.335419524113108\n",
      "===========================\n"
     ]
    }
   ],
   "source": [
    "wing_console.stats(alpha_min_drag, air_props, load_factor=load_factor)"
   ]
  },
  {
   "cell_type": "code",
   "execution_count": 18,
   "id": "54db36c5-d9df-4641-8ba8-c2a930400430",
   "metadata": {},
   "outputs": [
    {
     "name": "stdout",
     "output_type": "stream",
     "text": [
      "100% ⋮————————————————————————————————————————————————————————————⋮ (5/5)  3.74s\n"
     ]
    },
    {
     "data": {
      "application/vnd.jupyter.widget-view+json": {
       "model_id": "2a51cb6a2ab247ba802bb61ab5c20926",
       "version_major": 2,
       "version_minor": 0
      },
      "text/plain": [
       "CadViewerWidget(anchor=None, cad_width=800, glass=False, height=600, pinning=False, theme='light', title=None,…"
      ]
     },
     "metadata": {},
     "output_type": "display_data"
    },
    {
     "data": {
      "text/html": [
       "<div></div>"
      ],
      "text/plain": [
       "<IPython.core.display.HTML object>"
      ]
     },
     "metadata": {},
     "output_type": "display_data"
    },
    {
     "data": {
      "text/plain": [
       "<cad_viewer_widget.widget.CadViewer at 0x7f5b78347bb0>"
      ]
     },
     "execution_count": 18,
     "metadata": {},
     "output_type": "execute_result"
    }
   ],
   "source": [
    "assy = cq.Assembly()\n",
    "assy.add(wing_console.foam, name=\"foam\", color=cq.Color(\"lightgray\"))\n",
    "assy.add(wing_console.front_box, name=\"left_box\", color=cq.Color(\"yellow\"))\n",
    "assy.add(wing_console.central_box, name=\"central_box\", color=cq.Color(\"yellow\"))\n",
    "assy.add(wing_console.rear_box, name=\"right_box\", color=cq.Color(\"yellow\"))\n",
    "assy.add(wing_console.shell, name=\"shell\", color=cq.Color(\"lightskyblue2\"))\n",
    "show(assy, angular_tolerance=0.1)"
   ]
  },
  {
   "cell_type": "code",
   "execution_count": null,
   "id": "b23d2015",
   "metadata": {},
   "outputs": [],
   "source": []
  }
 ],
 "metadata": {
  "kernelspec": {
   "display_name": "Python 3 (ipykernel)",
   "language": "python",
   "name": "python3"
  },
  "language_info": {
   "codemirror_mode": {
    "name": "ipython",
    "version": 3
   },
   "file_extension": ".py",
   "mimetype": "text/x-python",
   "name": "python",
   "nbconvert_exporter": "python",
   "pygments_lexer": "ipython3",
   "version": "3.10.11"
  },
  "vscode": {
   "interpreter": {
    "hash": "e7370f93d1d0cde622a1f8e1c04877d8463912d04d973331ad4851f04de6915a"
   }
  }
 },
 "nbformat": 4,
 "nbformat_minor": 5
}
