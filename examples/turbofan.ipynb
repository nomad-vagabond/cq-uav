{
 "cells": [
  {
   "cell_type": "code",
   "execution_count": 1,
   "id": "bdce68c8-e9dd-40ae-8e5d-9d132f8b2e5f",
   "metadata": {},
   "outputs": [
    {
     "name": "stdout",
     "output_type": "stream",
     "text": [
      "Overwriting auto display for cadquery Workplane and Shape\n"
     ]
    }
   ],
   "source": [
    "import json\n",
    "from functools import cache, cached_property\n",
    "from pathlib import Path\n",
    "import tempfile\n",
    "\n",
    "import cadquery as cq\n",
    "from jupyter_cadquery import show\n",
    "import numpy as np\n",
    "import splinecloud_scipy as sc\n",
    "\n",
    "from cquav.turbofan import AirfoilSection, Turbofan, get_refined_airfoils_collection"
   ]
  },
  {
   "cell_type": "markdown",
   "id": "1766d47f-c076-4c69-9205-d5218eb49d67",
   "metadata": {},
   "source": [
    "## Get airfoils collection"
   ]
  },
  {
   "cell_type": "code",
   "execution_count": 2,
   "id": "f94d0b4d-8cbf-4028-beb6-2500b69c72c7",
   "metadata": {},
   "outputs": [],
   "source": [
    "airfoils = get_refined_airfoils_collection()"
   ]
  },
  {
   "cell_type": "markdown",
   "id": "c2a39d59-5109-470d-a0dd-9f37bf3e7cad",
   "metadata": {},
   "source": [
    "## Specify sections"
   ]
  },
  {
   "cell_type": "code",
   "execution_count": 3,
   "id": "afc1fbc2-f19d-4428-93a4-69298f35552b",
   "metadata": {},
   "outputs": [],
   "source": [
    "sections = [\n",
    "    AirfoilSection(airfoils[\"ONERA NACA CAMBRE AIRFOIL (ncambre-il)\"], 0.6, 0, -20),\n",
    "    AirfoilSection(airfoils[\"NACA 0012-64 a=0.8 c(li)=0.2 (naca001264a08cli02-il)\"], 1.0, 2, -12),\n",
    "    AirfoilSection(airfoils[\"NACA 6-H-15 AIRFOIL (n6h15-il)\"], 0.3, 4, -3),\n",
    "]"
   ]
  },
  {
   "cell_type": "markdown",
   "id": "17dbf7ee-4655-4669-a267-41125fd1097e",
   "metadata": {},
   "source": [
    "## Create the turbofan model"
   ]
  },
  {
   "cell_type": "code",
   "execution_count": 4,
   "id": "accee1f5-4c6a-4e0f-bd5f-f1496099bdac",
   "metadata": {},
   "outputs": [],
   "source": [
    "turbofan = Turbofan(\n",
    "    sections = sections,\n",
    "    vanes_count = 3,\n",
    "    center_hole_diameter = 1,\n",
    "    hub_diameter = 2    \n",
    ")"
   ]
  },
  {
   "cell_type": "code",
   "execution_count": 5,
   "id": "2a9602a8",
   "metadata": {},
   "outputs": [
    {
     "data": {
      "application/vnd.jupyter.widget-view+json": {
       "model_id": "ea8ab400cc194d278596ce64844db0b6",
       "version_major": 2,
       "version_minor": 0
      },
      "text/plain": [
       "CadViewerWidget(anchor=None, cad_width=800, glass=False, height=600, pinning=False, theme='light', title=None,…"
      ]
     },
     "metadata": {},
     "output_type": "display_data"
    },
    {
     "data": {
      "text/html": [
       "<div></div>"
      ],
      "text/plain": [
       "<IPython.core.display.HTML object>"
      ]
     },
     "metadata": {},
     "output_type": "display_data"
    }
   ],
   "source": [
    "turbofan_model = turbofan.build_turbofan()\n",
    "turbofan_model"
   ]
  }
 ],
 "metadata": {
  "kernelspec": {
   "display_name": "Python 3 (ipykernel)",
   "language": "python",
   "name": "python3"
  },
  "language_info": {
   "codemirror_mode": {
    "name": "ipython",
    "version": 3
   },
   "file_extension": ".py",
   "mimetype": "text/x-python",
   "name": "python",
   "nbconvert_exporter": "python",
   "pygments_lexer": "ipython3",
   "version": "3.10.11"
  }
 },
 "nbformat": 4,
 "nbformat_minor": 5
}
